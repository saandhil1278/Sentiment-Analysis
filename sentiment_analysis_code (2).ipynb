{
 "cells": [
  {
   "cell_type": "code",
   "execution_count": null,
   "id": "44bef2df",
   "metadata": {},
   "outputs": [],
   "source": [
    "import numpy as np\n",
    "import pandas as pd\n"
   ]
  },
  {
   "cell_type": "code",
   "execution_count": null,
   "id": "b3924c29",
   "metadata": {},
   "outputs": [],
   "source": [
    "df=pd.read_csv('Reviews.csv')"
   ]
  },
  {
   "cell_type": "code",
   "execution_count": null,
   "id": "a19102a2",
   "metadata": {},
   "outputs": [],
   "source": [
    "df"
   ]
  },
  {
   "cell_type": "code",
   "execution_count": null,
   "id": "8a2f628b",
   "metadata": {},
   "outputs": [],
   "source": [
    "import matplotlib.pyplot as plt\n",
    "import seaborn as sns\n"
   ]
  },
  {
   "cell_type": "code",
   "execution_count": null,
   "id": "17d1ef14",
   "metadata": {},
   "outputs": [],
   "source": [
    "plt.style.use('ggplot')\n",
    "import nltk "
   ]
  },
  {
   "cell_type": "code",
   "execution_count": null,
   "id": "ec2f4e67",
   "metadata": {},
   "outputs": [],
   "source": [
    "df['Text'].values[0]"
   ]
  },
  {
   "cell_type": "code",
   "execution_count": null,
   "id": "0648523b",
   "metadata": {},
   "outputs": [],
   "source": [
    "df.shape"
   ]
  },
  {
   "cell_type": "code",
   "execution_count": null,
   "id": "5e970b10",
   "metadata": {},
   "outputs": [],
   "source": [
    "df=df.head(500)\n",
    "df.shape"
   ]
  },
  {
   "cell_type": "code",
   "execution_count": null,
   "id": "d3a8c751",
   "metadata": {},
   "outputs": [],
   "source": [
    "df"
   ]
  },
  {
   "cell_type": "code",
   "execution_count": null,
   "id": "e07ab876",
   "metadata": {},
   "outputs": [],
   "source": [
    "##quick eda\n",
    "df['Score'].value_counts().sort_index().plot(kind='bar', title='Count of Reviews by Stars',figsize=(10,5))"
   ]
  },
  {
   "cell_type": "code",
   "execution_count": null,
   "id": "66276203",
   "metadata": {},
   "outputs": [],
   "source": [
    "ax = df['Score'].value_counts().sort_index() \\\n",
    "    .plot(kind='bar',\n",
    "          title='Count of Reviews by Stars',\n",
    "          figsize=(10, 5))\n",
    "ax.set_xlabel('Review Stars')\n",
    "plt.show()"
   ]
  },
  {
   "cell_type": "code",
   "execution_count": null,
   "id": "52c19507",
   "metadata": {},
   "outputs": [],
   "source": [
    "#basic nltk stuff\n",
    "import nltk\n",
    "nltk.download('punkt')\n",
    "\n",
    "example = df['Text'][50]\n",
    "print(example)"
   ]
  },
  {
   "cell_type": "code",
   "execution_count": null,
   "id": "ad584488",
   "metadata": {},
   "outputs": [],
   "source": [
    "print(example)"
   ]
  },
  {
   "cell_type": "code",
   "execution_count": null,
   "id": "5ba03a57",
   "metadata": {},
   "outputs": [],
   "source": [
    "nltk.word_tokenize(example)\n"
   ]
  },
  {
   "cell_type": "code",
   "execution_count": null,
   "id": "be98a35a",
   "metadata": {},
   "outputs": [],
   "source": [
    "tokens = nltk.word_tokenize(example)\n",
    "tokens[:10]"
   ]
  },
  {
   "cell_type": "code",
   "execution_count": null,
   "id": "ef9b9518",
   "metadata": {},
   "outputs": [],
   "source": [
    "import nltk\n",
    "nltk.download('averaged_perceptron_tagger')\n",
    "nltk.pos_tag(tokens)"
   ]
  },
  {
   "cell_type": "code",
   "execution_count": null,
   "id": "de606b84",
   "metadata": {},
   "outputs": [],
   "source": [
    "tagged = nltk.pos_tag(tokens)\n",
    "tagged[:10]\n"
   ]
  },
  {
   "cell_type": "code",
   "execution_count": null,
   "id": "61286554",
   "metadata": {},
   "outputs": [],
   "source": [
    "\n",
    "import nltk\n",
    "nltk.download('maxent_ne_chunker')\n",
    "nltk.download('words')\n",
    "entities= nltk.chunk.ne_chunk(tagged)\n",
    "entities.pprint()"
   ]
  },
  {
   "cell_type": "code",
   "execution_count": null,
   "id": "7a423dd6",
   "metadata": {},
   "outputs": [],
   "source": [
    "#VADER Sentiment Scoring\n",
    "#we will use nltk sentimentintensityAnalyzer to het the neg/neu/pos scores of the text \n",
    "#this uses a bag of words approach\n",
    "#1 stop words are removed \n",
    "#2 each word is scored and combined to a total score \n"
   ]
  },
  {
   "cell_type": "code",
   "execution_count": null,
   "id": "47efadd6",
   "metadata": {},
   "outputs": [],
   "source": [
    "from nltk.sentiment import SentimentIntensityAnalyzer\n",
    "from tqdm.notebook import tqdm\n",
    "nltk.download('vader_lexicon')\n",
    "sia= SentimentIntensityAnalyzer()"
   ]
  },
  {
   "cell_type": "code",
   "execution_count": null,
   "id": "0c377d1c",
   "metadata": {},
   "outputs": [],
   "source": [
    "sia"
   ]
  },
  {
   "cell_type": "code",
   "execution_count": null,
   "id": "d6f04b0a",
   "metadata": {},
   "outputs": [],
   "source": [
    "sia.polarity_scores('I am so happy')"
   ]
  },
  {
   "cell_type": "code",
   "execution_count": null,
   "id": "ea3219db",
   "metadata": {},
   "outputs": [],
   "source": [
    "sia.polarity_scores('This is the worst thing ever')"
   ]
  },
  {
   "cell_type": "code",
   "execution_count": null,
   "id": "ec1a3594",
   "metadata": {},
   "outputs": [],
   "source": [
    "sia.polarity_scores(example)"
   ]
  },
  {
   "cell_type": "code",
   "execution_count": null,
   "id": "b3858bf5",
   "metadata": {},
   "outputs": [],
   "source": [
    "#run the polarity score in the entire dataset \n",
    "res ={}\n",
    "for  i, row in tqdm(df.iterrows(), total=len(df)):\n",
    "    text = row['Text']\n",
    "    myid= row['Id']\n",
    "    res[myid]=sia.polarity_scores(text)\n",
    "    "
   ]
  },
  {
   "cell_type": "code",
   "execution_count": null,
   "id": "921d9dd2",
   "metadata": {},
   "outputs": [],
   "source": [
    "res"
   ]
  },
  {
   "cell_type": "code",
   "execution_count": null,
   "id": "084d41ee",
   "metadata": {},
   "outputs": [],
   "source": [
    "vaders=pd.DataFrame(res).T\n",
    "vaders=vaders.reset_index().rename(columns={'index': 'Id'})\n",
    "vaders=vaders.merge(df, how='left')"
   ]
  },
  {
   "cell_type": "code",
   "execution_count": null,
   "id": "10b58600",
   "metadata": {},
   "outputs": [],
   "source": [
    "#now we have sentiment score and meta data \n",
    "vaders"
   ]
  },
  {
   "cell_type": "code",
   "execution_count": null,
   "id": "7bb83d56",
   "metadata": {},
   "outputs": [],
   "source": [
    "##plot vaders result \n",
    "ax=sns.barplot(data=vaders, x='Score', y='compound')\n",
    "ax.set_title('Compound Score by Amazon Star Reviews')\n",
    "plt.show()\n"
   ]
  },
  {
   "cell_type": "code",
   "execution_count": null,
   "id": "aedaca48",
   "metadata": {},
   "outputs": [],
   "source": [
    "fig, axs=plt.subplots(1,3, figsize=(12,3))\n",
    "sns.barplot(data=vaders, x='Score', y='pos', ax=axs[0])\n",
    "sns.barplot(data=vaders, x='Score', y='neu', ax=axs[1])\n",
    "sns.barplot(data=vaders, x='Score', y='neg', ax=axs[2])\n",
    "axs[0].set_title('Positive')\n",
    "axs[1].set_title('Neutral')\n",
    "axs[2].set_title('Negative')\n",
    "plt.show()\n"
   ]
  },
  {
   "cell_type": "code",
   "execution_count": null,
   "id": "122e3faf",
   "metadata": {},
   "outputs": [],
   "source": [
    "#step 3 Roberta pretrained model\n",
    "#use a model trained of a large corpus of data \n",
    "#transformer model accounts for the words but also the context related to words \n",
    "#like sometimes even the sarcastic model is not always negative may be it gives you positive meaning \n",
    "#so vaders model was unable to catch that relationship b/w words so we use roberta model using library from hugging phase\n",
    "#named autoTokenizer and AutoModelForSequenceClassification using transformers"
   ]
  },
  {
   "cell_type": "code",
   "execution_count": null,
   "id": "a7011775",
   "metadata": {},
   "outputs": [],
   "source": [
    "!pip install transformers"
   ]
  },
  {
   "cell_type": "code",
   "execution_count": null,
   "id": "a847e6f6",
   "metadata": {},
   "outputs": [],
   "source": [
    "!pip install scipy"
   ]
  },
  {
   "cell_type": "code",
   "execution_count": null,
   "id": "f8d5cf5e",
   "metadata": {},
   "outputs": [],
   "source": [
    "\n",
    "from transformers import AutoTokenizer\n",
    "from transformers import AutoModelForSequenceClassification\n",
    "from scipy.special import softmax"
   ]
  },
  {
   "cell_type": "code",
   "execution_count": null,
   "id": "e825173b",
   "metadata": {},
   "outputs": [],
   "source": [
    "# Install the PyTorch library\n",
    "!pip install torch torchvision torchaudio\n"
   ]
  },
  {
   "cell_type": "code",
   "execution_count": null,
   "id": "feff4c15",
   "metadata": {},
   "outputs": [],
   "source": [
    "!pip install --ignore-installed tbb\n"
   ]
  },
  {
   "cell_type": "code",
   "execution_count": null,
   "id": "c8568c27",
   "metadata": {},
   "outputs": [],
   "source": [
    "# Install the TensorFlow library\n",
    "!pip install tensorflow\n"
   ]
  },
  {
   "cell_type": "code",
   "execution_count": null,
   "id": "f29e2304",
   "metadata": {},
   "outputs": [],
   "source": []
  },
  {
   "cell_type": "code",
   "execution_count": null,
   "id": "466a6349",
   "metadata": {},
   "outputs": [],
   "source": [
    "# Install PyTorch\n",
    "!pip install torch torchvision torchaudio\n"
   ]
  },
  {
   "cell_type": "code",
   "execution_count": null,
   "id": "733ed9e0",
   "metadata": {},
   "outputs": [],
   "source": [
    "!pip install --ignore-installed tbb\n"
   ]
  },
  {
   "cell_type": "code",
   "execution_count": null,
   "id": "95181e5d",
   "metadata": {},
   "outputs": [],
   "source": [
    "# Verify PyTorch installation\n",
    "import torch\n",
    "print(\"PyTorch version:\", torch.__version__)\n"
   ]
  },
  {
   "cell_type": "code",
   "execution_count": null,
   "id": "f9ca5ae8",
   "metadata": {},
   "outputs": [],
   "source": [
    "!pip3 install torch torchvision torchaudio --index-url https://download.pytorch.org/whl/cu118"
   ]
  },
  {
   "cell_type": "code",
   "execution_count": null,
   "id": "4e7527d5",
   "metadata": {},
   "outputs": [],
   "source": [
    "MODEL= f\"cardiffnlp/twitter-roberta-base-sentiment\"\n",
    "tokenizer =AutoTokenizer.from_pretrained(MODEL)\n",
    "model=AutoModelForSequenceClassification.from_pretrained(MODEL)"
   ]
  },
  {
   "cell_type": "code",
   "execution_count": null,
   "id": "34cb13be",
   "metadata": {},
   "outputs": [],
   "source": [
    "import torch\n",
    "print(torch.__version__)\n"
   ]
  },
  {
   "cell_type": "code",
   "execution_count": null,
   "id": "71ab822b",
   "metadata": {},
   "outputs": [],
   "source": [
    "import torch\n",
    "print(torch.__version__)\n"
   ]
  },
  {
   "cell_type": "code",
   "execution_count": null,
   "id": "40eb2889",
   "metadata": {},
   "outputs": [],
   "source": [
    "from transformers import AutoTokenizer, AutoModelForSequenceClassification\n",
    "\n",
    "MODEL = \"cardiffnlp/twitter-roberta-base-sentiment\"\n",
    "tokenizer = AutoTokenizer.from_pretrained(MODEL)\n",
    "model = AutoModelForSequenceClassification.from_pretrained(MODEL)\n"
   ]
  },
  {
   "cell_type": "code",
   "execution_count": null,
   "id": "4d35adcd",
   "metadata": {},
   "outputs": [],
   "source": [
    "print(example)"
   ]
  },
  {
   "cell_type": "code",
   "execution_count": null,
   "id": "7e0a01e1",
   "metadata": {},
   "outputs": [],
   "source": [
    "sia.polarity_scores(example)"
   ]
  },
  {
   "cell_type": "code",
   "execution_count": null,
   "id": "bc085aa4",
   "metadata": {},
   "outputs": [],
   "source": [
    "#run for roberta model\n",
    "encoded_text =tokenizer(example, return_tensors='pt')"
   ]
  },
  {
   "cell_type": "code",
   "execution_count": null,
   "id": "8697ebd2",
   "metadata": {},
   "outputs": [],
   "source": [
    "output=model(**encoded_text)\n",
    "scores=output[0][0].detach().numpy()\n",
    "scores=softmax(scores)"
   ]
  },
  {
   "cell_type": "code",
   "execution_count": null,
   "id": "6cd7c076",
   "metadata": {},
   "outputs": [],
   "source": [
    "scores"
   ]
  },
  {
   "cell_type": "code",
   "execution_count": null,
   "id": "711d8504",
   "metadata": {},
   "outputs": [],
   "source": [
    "scores_dict={\n",
    "    'roberta_neg' : scores[0],\n",
    "    'roberta_neu' : scores[1],\n",
    "    'roberta_pos' : scores[2]\n",
    "}\n",
    "print(scores_dict)"
   ]
  },
  {
   "cell_type": "code",
   "execution_count": null,
   "id": "2d7be62a",
   "metadata": {},
   "outputs": [],
   "source": [
    "sia.polarity_scores(example)"
   ]
  },
  {
   "cell_type": "code",
   "execution_count": null,
   "id": "3e363024",
   "metadata": {},
   "outputs": [],
   "source": [
    "#seeing the text we can see it is a negative comment but while we see it from vaders model it is showing neutral but from \n",
    "#roberta model it is showing 97% negative comment which means roberta is better model than vaders\n",
    "print(example)"
   ]
  },
  {
   "cell_type": "code",
   "execution_count": null,
   "id": "d421e1c3",
   "metadata": {},
   "outputs": [],
   "source": [
    "def polarity_scores_roberta(example):\n",
    "    encoded_text=encoded_text =tokenizer(example, return_tensors='pt')\n",
    "    output=model(**encoded_text)\n",
    "    scores=output[0][0].detach().numpy()\n",
    "    scores=softmax(scores)\n",
    "    scores_dict={\n",
    "    'roberta_neg' : scores[0],\n",
    "    'roberta_neu' : scores[1],\n",
    "    'roberta_pos' : scores[2]\n",
    "    }\n",
    "    return scores_dict"
   ]
  },
  {
   "cell_type": "code",
   "execution_count": null,
   "id": "4d9a7822",
   "metadata": {},
   "outputs": [],
   "source": [
    "res={}\n",
    "for i, row in tqdm(df.iterrows(),total=len(df)):\n",
    "    try:\n",
    "        text=row['Text']\n",
    "        myid=row['Id']\n",
    "        vader_result =sia.polarity_scores(text)\n",
    "        vader_result_rename={}\n",
    "        for key, value in vader_result.items():\n",
    "            vader_result_rename[f\"vader_{key}\"] =value\n",
    "        roberta_result=polarity_scores_roberta(text)\n",
    "        both={**vader_result_rename, **roberta_result}\n",
    "        res[myid]=both\n",
    "    except RuntimeError:\n",
    "        print(f'Broke for id{myid}')"
   ]
  },
  {
   "cell_type": "code",
   "execution_count": null,
   "id": "ff6a836c",
   "metadata": {},
   "outputs": [],
   "source": [
    "both"
   ]
  },
  {
   "cell_type": "code",
   "execution_count": null,
   "id": "1eb9a159",
   "metadata": {},
   "outputs": [],
   "source": [
    "vader_result"
   ]
  },
  {
   "cell_type": "code",
   "execution_count": null,
   "id": "99ca73b3",
   "metadata": {},
   "outputs": [],
   "source": [
    "roberta_result"
   ]
  },
  {
   "cell_type": "code",
   "execution_count": null,
   "id": "c052e626",
   "metadata": {},
   "outputs": [],
   "source": [
    "results_df=pd.DataFrame(res).T\n",
    "results_df=results_df.reset_index().rename(columns={'index': 'Id'})\n",
    "results_df=results_df.merge(df, how='left')"
   ]
  },
  {
   "cell_type": "code",
   "execution_count": null,
   "id": "819e20c0",
   "metadata": {},
   "outputs": [],
   "source": [
    "results_df.head()"
   ]
  },
  {
   "cell_type": "code",
   "execution_count": null,
   "id": "7220fbe4",
   "metadata": {},
   "outputs": [],
   "source": [
    "results_df.columns"
   ]
  },
  {
   "cell_type": "code",
   "execution_count": null,
   "id": "2f9e50d0",
   "metadata": {},
   "outputs": [],
   "source": [
    "#compare scores between models \n",
    "sns.pairplot(data=results_df,\n",
    "             vars=['vader_neg', 'vader_neu', 'vader_pos', 'vader_compound',\n",
    "                  'roberta_neg', 'roberta_neu', 'roberta_pos'],\n",
    "            hue='Score',\n",
    "            palette='tab10')\n",
    "plt.show()"
   ]
  },
  {
   "cell_type": "code",
   "execution_count": null,
   "id": "3d87319c",
   "metadata": {},
   "outputs": [],
   "source": [
    "#step 4 \n",
    "#Review Examples\n",
    "#positive 1 star and negative 5 star reviews\n",
    "#lets look at some examples where the model scoring and reveiw score differ the most \n"
   ]
  },
  {
   "cell_type": "code",
   "execution_count": null,
   "id": "5a120f9b",
   "metadata": {},
   "outputs": [],
   "source": [
    "results_df.query('Score==1').sort_values('roberta_pos', ascending=False)['Text'].values[0]"
   ]
  },
  {
   "cell_type": "code",
   "execution_count": null,
   "id": "b3f03b08",
   "metadata": {},
   "outputs": [],
   "source": [
    "results_df.query('Score==1').sort_values('vader_pos', ascending=False)['Text'].values[0]"
   ]
  },
  {
   "cell_type": "code",
   "execution_count": null,
   "id": "48d50edf",
   "metadata": {},
   "outputs": [],
   "source": [
    "#negative sentiment 5 star reveiws \n",
    "results_df.query('Score==5').sort_values('roberta_neg',ascending='False')['Text'].values[0]"
   ]
  },
  {
   "cell_type": "code",
   "execution_count": null,
   "id": "743d64d7",
   "metadata": {},
   "outputs": [],
   "source": [
    "#negative sentiment 5 star reveiws \n",
    "results_df.query('Score==5').sort_values('vader_neg',ascending='False')['Text'].values[0]"
   ]
  },
  {
   "cell_type": "code",
   "execution_count": null,
   "id": "54f9542b",
   "metadata": {},
   "outputs": [],
   "source": [
    "#extra: The Transformers Pipeline\n",
    "#quick and easy way to run sentiment predictions"
   ]
  },
  {
   "cell_type": "code",
   "execution_count": null,
   "id": "ba80e8a2",
   "metadata": {},
   "outputs": [],
   "source": [
    "from transformers import pipeline\n",
    "sent_pipeline=pipeline(\"sentiment-analysis\")"
   ]
  },
  {
   "cell_type": "code",
   "execution_count": null,
   "id": "94205770",
   "metadata": {},
   "outputs": [],
   "source": [
    "sent_pipeline('I love sentiment analysis')"
   ]
  },
  {
   "cell_type": "code",
   "execution_count": null,
   "id": "c842b3ce",
   "metadata": {},
   "outputs": [],
   "source": [
    "sent_pipeline('make sure to like and subscribe')"
   ]
  },
  {
   "cell_type": "code",
   "execution_count": null,
   "id": "903fa3bc",
   "metadata": {},
   "outputs": [],
   "source": [
    "sent_pipeline('boo')"
   ]
  },
  {
   "cell_type": "code",
   "execution_count": null,
   "id": "04386c5a",
   "metadata": {},
   "outputs": [],
   "source": [
    "sent_pipeline('who are you')"
   ]
  },
  {
   "cell_type": "code",
   "execution_count": null,
   "id": "fecd2be8",
   "metadata": {},
   "outputs": [],
   "source": [
    "sent_pipeline('he is black')"
   ]
  },
  {
   "cell_type": "code",
   "execution_count": null,
   "id": "ce93131d",
   "metadata": {},
   "outputs": [],
   "source": [
    "sent_pipeline('he is white')"
   ]
  },
  {
   "cell_type": "code",
   "execution_count": null,
   "id": "418ad377",
   "metadata": {},
   "outputs": [],
   "source": [
    "sent_pipeline(' ')"
   ]
  }
 ],
 "metadata": {
  "kernelspec": {
   "display_name": "Python 3 (ipykernel)",
   "language": "python",
   "name": "python3"
  },
  "language_info": {
   "codemirror_mode": {
    "name": "ipython",
    "version": 3
   },
   "file_extension": ".py",
   "mimetype": "text/x-python",
   "name": "python",
   "nbconvert_exporter": "python",
   "pygments_lexer": "ipython3",
   "version": "3.9.7"
  }
 },
 "nbformat": 4,
 "nbformat_minor": 5
}
